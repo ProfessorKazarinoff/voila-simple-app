{
 "cells": [
  {
   "cell_type": "markdown",
   "metadata": {
    "slideshow": {
     "slide_type": "slide"
    }
   },
   "source": [
    "# Voila\n",
    "\n",
    "## Turn Jupyter notebooks into interactive websites"
   ]
  },
  {
   "cell_type": "markdown",
   "metadata": {
    "slideshow": {
     "slide_type": "slide"
    }
   },
   "source": [
    "# Installation\n",
    "\n",
    "```$ pip install voila```\n",
    "\n",
    "```$ conda install -c conda-forge voila```\n",
    "\n",
    "# Run a Notebook as a website locally\n",
    "\n",
    "```$ voila notebook.ipynb```"
   ]
  },
  {
   "cell_type": "markdown",
   "metadata": {
    "slideshow": {
     "slide_type": "slide"
    }
   },
   "source": [
    "![image](images/run_voila_locally.png)"
   ]
  },
  {
   "cell_type": "markdown",
   "metadata": {
    "slideshow": {
     "slide_type": "slide"
    }
   },
   "source": [
    "# Deploy on Heroku\n",
    "\n",
    "## 3 files plus your notebook\n",
    "\n",
    "```text\n",
    "project_dir/\n",
    "├── app.ipynb\n",
    "├── Procfile\n",
    "├── requirements.txt\n",
    "└── runtime.txt\n",
    "```\n",
    "\n",
    "# Use the Heroku CLI\n",
    "\n",
    "```text\n",
    "$ heroku create\n",
    "$ git push heroku master\n",
    "```"
   ]
  },
  {
   "cell_type": "markdown",
   "metadata": {
    "slideshow": {
     "slide_type": "slide"
    }
   },
   "source": [
    "![voila on heroku](images/run_voila_online.png)"
   ]
  },
  {
   "cell_type": "code",
   "execution_count": null,
   "metadata": {},
   "outputs": [],
   "source": []
  }
 ],
 "metadata": {
  "celltoolbar": "Slideshow",
  "kernelspec": {
   "display_name": "Python 3",
   "language": "python",
   "name": "python3"
  },
  "language_info": {
   "codemirror_mode": {
    "name": "ipython",
    "version": 3
   },
   "file_extension": ".py",
   "mimetype": "text/x-python",
   "name": "python",
   "nbconvert_exporter": "python",
   "pygments_lexer": "ipython3",
   "version": "3.7.6"
  }
 },
 "nbformat": 4,
 "nbformat_minor": 2
}
